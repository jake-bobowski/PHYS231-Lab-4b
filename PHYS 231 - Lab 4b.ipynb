{
 "cells": [
  {
   "cell_type": "markdown",
   "id": "7b1dcfc4",
   "metadata": {
    "deletable": false,
    "editable": false
   },
   "source": [
    "# <div style=\"background-color:rgba(204, 229, 255, 0.5); text-align:center; vertical-align: middle; padding:40px 0; margin-top:30px\"><span style=\"color:rgba(0, 76, 153, 1);\">PHYS 231 Lab #4 - Day 2</span></div>\n",
    "\n",
    "### Due Monday, Oct. 24 at 2:00 pm $-$ upload your .zip submission to the PHYS 231 Canvas Gradebook."
   ]
  },
  {
   "cell_type": "markdown",
   "id": "5b1686b5",
   "metadata": {
    "deletable": false,
    "editable": false
   },
   "source": [
    "***\n",
    "## Lab Learning Outcomes:\n",
    "By the end of the PHYS 231 Lab #4, students will be able to:\n",
    "* <b><span style=\"color:rgba(0, 153, 76, 1);\">Design, build, and test practical $LRC$ circuits.</span></b>\n",
    "* <b><span style=\"color:rgba(0, 153, 76, 1);\">Measure the frequency response of an underdamped $LRC$ circuit.</span></b>\n",
    "* <b><span style=\"color:rgba(0, 153, 76, 1);\">Perform a weighted nonlinear fits to sets of data and use the extracted best-fit parameters to determine quantities of interest.</span></b>"
   ]
  },
  {
   "cell_type": "markdown",
   "id": "52b32c8a",
   "metadata": {
    "deletable": false,
    "editable": false
   },
   "source": [
    "# <div style=\"background-color:rgba(255, 204, 255, 0.5); text-align:center; vertical-align: middle; padding:40px 0; margin-top:30px\"><span style=\"color:rgba(102, 0, 204, 1);\">Part 1 - Installing & Importing Packages</span></div>\n",
    "\n",
    "## The 'InstallerCheck()' Function:\n",
    "\n",
    "Run the 'InstallerCheck()' function contained within PHYS231.py by placing you're cursor inside the code cell below and then hitting 'Shift'+'Enter'.  If the function reports that some packages have been installed, run the cell with \"InstallerCheck()\" a second time.  It should report that all required packages are already installed."
   ]
  },
  {
   "cell_type": "code",
   "execution_count": null,
   "id": "5f897777",
   "metadata": {
    "deletable": false,
    "tags": []
   },
   "outputs": [],
   "source": [
    "import PHYS231\n",
    "PHYS231.InstallerCheck()"
   ]
  },
  {
   "cell_type": "markdown",
   "id": "ef93f727",
   "metadata": {
    "deletable": false,
    "editable": false
   },
   "source": [
    "## Importing Packages/Modules:\n",
    "\n",
    "Once the packages are installed, they can be imported using the notation:\n",
    "```python\n",
    "import packageName\n",
    "```\n",
    "where 'packageName' is the name of the package to be imported.  Execute the import statements below by placing your cursor within the code cell and hitting 'Shift' + 'Enter'."
   ]
  },
  {
   "cell_type": "code",
   "execution_count": null,
   "id": "faaab91f",
   "metadata": {
    "deletable": false
   },
   "outputs": [],
   "source": [
    "# Import required and commonly-used modules\n",
    "import matplotlib.pyplot as plt\n",
    "import numpy as np\n",
    "import pandas as pd\n",
    "import uncertainties\n",
    "from uncertainties import ufloat\n",
    "    \n",
    "# Initialize Otter\n",
    "import otter\n",
    "grader = otter.Notebook(\"PHYS 231 - Lab 4b.ipynb\")"
   ]
  },
  {
   "cell_type": "markdown",
   "id": "a4c134a3",
   "metadata": {
    "deletable": false,
    "editable": false
   },
   "source": [
    "# <div style=\"background-color:rgba(255, 204, 255, 0.5); text-align:center; vertical-align: middle; padding:40px 0; margin-top:30px\"><span style=\"color:rgba(102, 0, 204, 1);\">Part 2 - Oscilloscope Measurement of the Resonance and Phase</span></div>\n",
    "\n",
    "## NumPy Arrays\n",
    "\n",
    "Data that you collect during the lab can be entered directly into a list using the following notation:\n",
    "\n",
    "```python\n",
    "x = [x0, x1, x2, x3, ..., xN]\n",
    "y = [y0, y1, y2, y3, ..., yN]\n",
    "```\n",
    "These lists will contain $N+1$ elements. It's usually more convenient to enter data into a NumPy array rather than a list because you can do mathematical operations on arrays that you can't do on lists.  For example:\n",
    "\n",
    "- squaring an array creates an new array with each of the elements from the original array squared\n",
    "- multiplying two arrays of the same length creates a new array in which the each elements is the product of the corresponding elements from the original arrays\n",
    "- ...\n",
    "\n",
    "NumPy arrays are entered using the following syntax:\n",
    "\n",
    "```python\n",
    "x = np.array([x0, x1, x2, x3, ..., xN])\n",
    "y = np.array([y0, y1, y2, y3, ..., yN])\n",
    "```             \n",
    "\n",
    "In the cell below, replace the \"...\" in NumPy array statements with your measurements of:\n",
    "\n",
    "- frequency in kHz\n",
    "- the amplitude of the signal from the function generator V0 in volts\n",
    "- the uncertainty in V0 in volts\n",
    "- the amplitude of the voltage across the resistor VR in volts\n",
    "- the uncertainty in VR in volts\n",
    "- the difference in time in $\\rm \\mu s$ between V0 and VR at, say, a zero crossing with positive slope (note that some of the time differences will be positive and some will be negative)\n",
    "- the uncertainty in the time difference in $\\rm \\mu s$\n",
    "\n",
    "After executing the cell, the lengths of each of the arrays you've entered will be printed.  Make sure that all of the lengths are the same."
   ]
  },
  {
   "cell_type": "code",
   "execution_count": null,
   "id": "c847f325",
   "metadata": {},
   "outputs": [],
   "source": [
    "# Enter your data into the arrays below.\n",
    "# Please do NOT change the variable names.\n",
    "frequency = np.array([...]) # kHz\n",
    "V0 = np.array([...]) # V\n",
    "errV0 = np.array([...]) # V\n",
    "VR = np.array([...]) # V\n",
    "errVR = np.array([...]) # V\n",
    "dt = np.array([...]) # us\n",
    "errdt = np.array([...]) # us\n",
    "\n",
    "# The statements below will print the lengths of the arrays.\n",
    "print(\"Length of frequency array:\", len(frequency))\n",
    "print(\"Length of V0 array:\", len(V0))\n",
    "print(\"Length of errV0 array:\", len(errV0))\n",
    "print(\"Length of VR array:\", len(VR))\n",
    "print(\"Length of errVR array:\", len(errVR))\n",
    "print(\"Length of dt array:\", len(dt))\n",
    "print(\"Length of errdt array:\", len(errdt))"
   ]
  },
  {
   "cell_type": "markdown",
   "id": "2a4070fb",
   "metadata": {
    "deletable": false,
    "editable": false
   },
   "source": [
    "## Pandas DateFrames\n",
    "\n",
    "The Pandas package can be used to display your array data in a nicely-formated table.  The Pandas package creates \"DataFrames\" which are 2 dimensional data structures, like a 2 dimensional array, or a table with rows and columns.  The cell below creates and then displays a DataFrame using the arrays that you created in the cell above."
   ]
  },
  {
   "cell_type": "code",
   "execution_count": null,
   "id": "feb5596c",
   "metadata": {},
   "outputs": [],
   "source": [
    "# Create the data structure.\n",
    "data = {\n",
    "    \"frequnecy (Hz)\": frequency,\n",
    "    \"V0 (V)\": V0,\n",
    "    \"errV0 (V)\": errV0,\n",
    "    \"VR (V)\": VR,\n",
    "    \"errVR (V)\": errVR,\n",
    "    \"dt (us)\": dt,\n",
    "    \"errdt (us)\": errdt\n",
    "        }\n",
    "\n",
    "# An option to format the numbers in the DataFrame.\n",
    "pd.set_option('display.float_format', lambda x: '%0.3g' % x)\n",
    "\n",
    "#Display the data.\n",
    "pd.DataFrame(data)"
   ]
  },
  {
   "cell_type": "markdown",
   "id": "dcd06fd0",
   "metadata": {
    "deletable": false,
    "editable": false
   },
   "source": [
    "## $V_\\mathrm{R}/V_0$ versus $\\omega = 2\\pi f$\n",
    "\n",
    "In the cells below, calculate:\n",
    "\n",
    "- $\\omega = 2\\pi f$.  For $\\pi$, use np.pi.  \n",
    "- $V_\\mathrm{R}/V_0$\n",
    "- the uncertainty in $V_\\mathrm{R}/V_0$\n",
    "\n",
    "We'll assume the relative uncertainty in the frequency is negligible compared the relative uncertainties of the other relevant parameters.\n",
    "\n",
    "Recall propagation of errors.  If $y = f\\left(x1, x2, ..., x_N\\right)$ and $x_i\\pm\\Delta x_i$ for $i= 1...N$ are known, then:\n",
    "\n",
    "\\begin{align}\n",
    "\\Delta y = \\sqrt{\\left(\\frac{\\partial f}{\\partial x_1}\\Delta x_1\\right)^2 + \\left(\\frac{\\partial f}{\\partial x_2}\\Delta x_2\\right)^2 + ... + \\left(\\frac{\\partial f}{\\partial x_N}\\Delta x_N\\right)^2}\n",
    "\\end{align}\n",
    "\n",
    "Please do **NOT** change the variable names."
   ]
  },
  {
   "cell_type": "code",
   "execution_count": null,
   "id": "3374839a",
   "metadata": {
    "tags": []
   },
   "outputs": [],
   "source": [
    "# Calucate the angular frequency in units of krad/s.\n",
    "omega = ..."
   ]
  },
  {
   "cell_type": "code",
   "execution_count": null,
   "id": "6087df0d",
   "metadata": {
    "deletable": false,
    "editable": false
   },
   "outputs": [],
   "source": [
    "grader.check(\"omega\")"
   ]
  },
  {
   "cell_type": "code",
   "execution_count": null,
   "id": "0fd8a4dd",
   "metadata": {
    "tags": []
   },
   "outputs": [],
   "source": [
    "Ratio = ..."
   ]
  },
  {
   "cell_type": "code",
   "execution_count": null,
   "id": "b4e034d6",
   "metadata": {
    "deletable": false,
    "editable": false
   },
   "outputs": [],
   "source": [
    "grader.check(\"Ratio\")"
   ]
  },
  {
   "cell_type": "code",
   "execution_count": null,
   "id": "cb1587da",
   "metadata": {
    "tags": []
   },
   "outputs": [],
   "source": [
    "# Note that, in Python, the square root can be called using np.sqrt(...).\n",
    "errRatio = ..."
   ]
  },
  {
   "cell_type": "code",
   "execution_count": null,
   "id": "8f0ea323",
   "metadata": {
    "deletable": false,
    "editable": false
   },
   "outputs": [],
   "source": [
    "grader.check(\"Ratio_uncertainty\")"
   ]
  },
  {
   "cell_type": "markdown",
   "id": "005fb3a2",
   "metadata": {
    "deletable": false,
    "editable": false
   },
   "source": [
    "### Plot the data\n",
    "\n",
    "The $V_\\mathrm{R}/V_0$ data can now be plotted as a function of angular frequency.  Execute the cell below to created a scatter plot with error bars.  For additional information about the 'Scatter' function, see **Appendix A** near the end of this notebook. "
   ]
  },
  {
   "cell_type": "code",
   "execution_count": null,
   "id": "e23e9ac4",
   "metadata": {},
   "outputs": [],
   "source": [
    "fig1 = PHYS231.Scatter(\n",
    "    xData = omega,\n",
    "    yData = Ratio,\n",
    "    yErrors = errRatio,\n",
    "    xlabel = \"angular frequency\",\n",
    "    ylabel = \"VR/V0\",\n",
    "    xUnits = \"krad/s\",\n",
    "    yUnits = \"\",\n",
    ")"
   ]
  },
  {
   "cell_type": "markdown",
   "id": "ded6ff04",
   "metadata": {
    "deletable": false,
    "editable": false
   },
   "source": [
    "## Nonlinear Fits\n",
    "\n",
    "Recall from class that, for the series $LRC$ circuit:\n",
    "\n",
    "\\begin{equation}\n",
    "\\frac{V_\\mathrm{R}}{V_0} = \\frac{R}{\\sqrt{R^2 + \\left(\\omega L - \\dfrac{1}{\\omega C}\\right)^2}}\n",
    "\\end{equation}\n",
    "\n",
    "If the substitutions $\\gamma = R/L$ and $\\omega_0 = 1/\\sqrt{LC}$ are made, one can show that:\n",
    "\n",
    "\\begin{equation}\n",
    "\\frac{V_\\mathrm{R}}{V_0} = \\frac{1}{\\sqrt{1 + \\left(\\dfrac{\\omega}{\\gamma}\\right)^2\\left[1 - \\left(\\dfrac{\\omega_0}{\\omega}\\right)^2\\right]^2}}\n",
    "\\end{equation}\n",
    "\n",
    "The parameter $\\omega_0$ represents the resonance frequency and $\\gamma$ represents the width of the resonance.\n",
    "\n",
    "In practice, the peak of your resonance will not reach a value of $V_\\mathrm{R}/V_0 = 1$.  This is due to losses on the wire used to wind the inductors which have not been taken into account.  To capture the effect of these losses, we can add an overall scaling factor $A$ such that:\n",
    "\n",
    "\\begin{equation}\n",
    "\\frac{V_\\mathrm{R}}{V_0} = \\frac{A}{\\sqrt{1 + \\left(\\dfrac{\\omega}{\\gamma}\\right)^2\\left[1 - \\left(\\dfrac{\\omega_0}{\\omega}\\right)^2\\right]^2}}\n",
    "\\end{equation}\n",
    "\n",
    "You will fit this function to your data in order to extract the best-fit parameters $A\\pm\\Delta A$, $\\omega_0\\pm\\Delta\\omega_0$, and $\\gamma\\pm\\Delta\\gamma$.  \n",
    "\n",
    "For nonlinear functions, it is often necessary to provide initial \"guesses\" for the parameters which are used by the fitting algorithm.  Use the plot generated above to determine reasonable initial guesses for the parameters $A$, $\\omega_0$, and $\\gamma$."
   ]
  },
  {
   "cell_type": "code",
   "execution_count": null,
   "id": "f92fedca",
   "metadata": {},
   "outputs": [],
   "source": [
    "# Enter your starting parameters into array below.  The order must be np.array([A, omega0, gamma]).\n",
    "start = np.array([...])"
   ]
  },
  {
   "cell_type": "markdown",
   "id": "85cee3e3",
   "metadata": {
    "deletable": false,
    "editable": false
   },
   "source": [
    "<!-- BEGIN QUESTION -->\n",
    "\n",
    "We'll use the 'Lorentz' contained in PHYS231.py to complete the nonlinear fit:\n",
    "```python\n",
    "A, Omega0, Gamma, errA, errOmega0, errGamma, fig = PHYS231.Lorentz(x, y, erry)\n",
    "```\n",
    "A weighted fit with a formatted plot can be called by using some of the other available arguments:\n",
    "```python\n",
    "A, Omega0, Gamma, errA, errOmega0, errGamma, fig = PHYS231.Lorentz(xData = x, yData = y, yErrors = erry, start = start, xlabel = 'time', ylabel = 'position', xUnits = 's', yUnits = 'm')\n",
    "```\n",
    "Execute the cell below to preform a weighted nonlinear fit to your data."
   ]
  },
  {
   "cell_type": "code",
   "execution_count": null,
   "id": "1ef02be5",
   "metadata": {
    "tags": []
   },
   "outputs": [],
   "source": [
    "A, Omega0, Gamma, errA, errOmega0, errGamma, fig2 = PHYS231.Lorentz(\n",
    "    xData = omega, \n",
    "    yData = Ratio, \n",
    "    yErrors = errRatio, \n",
    "    start = start,\n",
    "    xlabel = \"angular frequency\", \n",
    "    ylabel = 'VR/V0', \n",
    "    xUnits = 'krad/s', \n",
    "    yUnits = '')"
   ]
  },
  {
   "cell_type": "markdown",
   "id": "93eb3ab8",
   "metadata": {
    "deletable": false,
    "editable": false
   },
   "source": [
    "<!-- END QUESTION -->\n",
    "\n",
    "In your lab notebook, you should compare this experimentally-measured values of $\\omega_0$ and $\\gamma$ to the values that you expected based on the values of the components used in your circuit.  Recall that $\\omega_0 = 1/\\sqrt{LC}$ and $\\gamma=R/L$.  Keep in mind that your expected values of $\\omega_0$ and $\\gamma$ will also have uncertainties based on the uncertainties in the values of $R\\pm\\Delta R$, $L\\pm\\Delta L$, and $C\\pm\\Delta C$."
   ]
  },
  {
   "cell_type": "markdown",
   "id": "28241f54",
   "metadata": {
    "deletable": false,
    "editable": false
   },
   "source": [
    "## $\\phi$ versus $\\omega$\n",
    "\n",
    "In the cells below, using $\\omega$ and the measured time difference $dt$ to calculate the phase difference between $V_\\mathrm{R}$ and $V_0$ (and its uncertainty).  Recall that $omega$ is in $\\rm krad/s$ and $dt$ is in $\\rm \\mu s$.  You will need to convert to $\\rm rad/s$ and $\\rm s$ to get the correct values for $\\phi$.\n",
    "\n",
    "Please do **NOT** change the variable names."
   ]
  },
  {
   "cell_type": "code",
   "execution_count": null,
   "id": "66a997ef",
   "metadata": {
    "tags": []
   },
   "outputs": [],
   "source": [
    "Phi = ..."
   ]
  },
  {
   "cell_type": "code",
   "execution_count": null,
   "id": "0e33bf5a",
   "metadata": {
    "deletable": false,
    "editable": false
   },
   "outputs": [],
   "source": [
    "grader.check(\"phase\")"
   ]
  },
  {
   "cell_type": "code",
   "execution_count": null,
   "id": "573c73ec",
   "metadata": {
    "tags": []
   },
   "outputs": [],
   "source": [
    "errPhi = ..."
   ]
  },
  {
   "cell_type": "code",
   "execution_count": null,
   "id": "99c6aee3",
   "metadata": {
    "deletable": false,
    "editable": false
   },
   "outputs": [],
   "source": [
    "grader.check(\"phase_uncertainty\")"
   ]
  },
  {
   "cell_type": "markdown",
   "id": "8849aaf0",
   "metadata": {
    "deletable": false,
    "editable": false
   },
   "source": [
    "### Plot the data\n",
    "\n",
    "The $\\phi$ data can now be plotted as a function of angular frequency.  Execute the cell below to created a scatter plot with error bars.  For additional information about the 'Scatter' function, see **Appendix A** near the end of this notebook. "
   ]
  },
  {
   "cell_type": "code",
   "execution_count": null,
   "id": "e0e7ed7c",
   "metadata": {},
   "outputs": [],
   "source": [
    "fig3 = PHYS231.Scatter(\n",
    "    xData = omega,\n",
    "    yData = Phi,\n",
    "    yErrors = errPhi,\n",
    "    xlabel = \"angular frequency\",\n",
    "    ylabel = \"phase\",\n",
    "    xUnits = \"krad/s\",\n",
    "    yUnits = \"rad\",\n",
    ")"
   ]
  },
  {
   "cell_type": "markdown",
   "id": "6dd2f4de",
   "metadata": {
    "deletable": false,
    "editable": false
   },
   "source": [
    "## Nonlinear Fits\n",
    "\n",
    "Recall from class that, for the series $LRC$ circuit:\n",
    "\n",
    "\\begin{equation}\n",
    "\\phi = \\arctan\\left(\\dfrac{1}{\\omega RC} - \\omega\\frac{L}{R}\\right)\n",
    "\\end{equation}\n",
    "\n",
    "Expressed in terms of $\\gamma = R/L$ and $\\omega_0 = 1/\\sqrt{LC}$, the phase becomes:\n",
    "\n",
    "\\begin{equation}\n",
    "\\phi = \\arctan\\left\\{ \\frac{\\omega}{\\gamma}\\left[\\left(\\frac{\\omega_0}{\\omega}\\right)^2 - 1\\right] \\right\\}\n",
    "\\end{equation}\n",
    "\n",
    "You will fit this function to your data in order to extract the best-fit parameters $\\omega_0\\pm\\Delta\\omega_0$ and $\\gamma\\pm\\Delta\\gamma$.  \n",
    "\n",
    "For nonlinear functions, it is often necessary to provide initial \"guesses\" for the parameters which are used by the fitting algorithm."
   ]
  },
  {
   "cell_type": "code",
   "execution_count": null,
   "id": "403f32d2",
   "metadata": {},
   "outputs": [],
   "source": [
    "# Enter your starting parameters into array below.  The order must be np.array([omega0, gamma]).\n",
    "start = np.array([...])"
   ]
  },
  {
   "cell_type": "markdown",
   "id": "281d5cc2",
   "metadata": {
    "deletable": false,
    "editable": false
   },
   "source": [
    "<!-- BEGIN QUESTION -->\n",
    "\n",
    "We'll use the 'Phase' contained in PHYS231.py to complete the nonlinear fit:\n",
    "```python\n",
    "Omega0, Gamma, errOmega0, errGamma, fig = PHYS231.Phase(x, y, erry)\n",
    "```\n",
    "A weighted fit with a formatted plot can be called by using some of the other available arguments:\n",
    "```python\n",
    "Omega0, Gamma, errOmega0, errGamma, fig = PHYS231.Phase(xData = x, yData = y, yErrors = erry, start = start, xlabel = 'time', ylabel = 'position', xUnits = 's', yUnits = 'm')\n",
    "```\n",
    "Execute the cell below to preform a weighted nonlinear fit to your data."
   ]
  },
  {
   "cell_type": "code",
   "execution_count": null,
   "id": "ce7f7490",
   "metadata": {
    "tags": []
   },
   "outputs": [],
   "source": [
    "Omega0, Gamma, errOmega0, errGamma, fig4 = PHYS231.Phase(\n",
    "    xData = omega, \n",
    "    yData = Phi, \n",
    "    yErrors = errPhi, \n",
    "    start = start,\n",
    "    xlabel = \"angular frequency\", \n",
    "    ylabel = 'phase', \n",
    "    xUnits = 'krad/s', \n",
    "    yUnits = 'rad')"
   ]
  },
  {
   "cell_type": "markdown",
   "id": "7d5109ec",
   "metadata": {
    "deletable": false,
    "editable": false
   },
   "source": [
    "<!-- END QUESTION -->\n",
    "\n",
    "In your lab notebook, you should compare this experimentally-measured values of $\\omega_0$ and $\\gamma$ to the values that you expected based on the values of the components used in your circuit.  Recall that $\\omega_0 = 1/\\sqrt{LC}$ and $\\gamma=R/L$.  Keep in mind that your expected values of $\\omega_0$ and $\\gamma$ will also have uncertainties based on the uncertainties in the values of $R\\pm\\Delta R$, $L\\pm\\Delta L$, and $C\\pm\\Delta C$."
   ]
  },
  {
   "cell_type": "markdown",
   "id": "6f9fc3bb",
   "metadata": {
    "deletable": false,
    "editable": false
   },
   "source": [
    "<!-- BEGIN QUESTION -->\n",
    "\n",
    "# <div style=\"background-color:rgba(255, 204, 255, 0.5); text-align:center; vertical-align: middle; padding:40px 0; margin-top:30px\"><span style=\"color:rgba(102, 0, 204, 1);\">Part 3 - Feedback and Submission</span></div>"
   ]
  },
  {
   "cell_type": "markdown",
   "id": "8241905f",
   "metadata": {
    "deletable": false,
    "editable": false
   },
   "source": [
    "***\n",
    "**<span style=\"color:blue\">Question 3.1:</span>**  \n",
    "\n",
    "We welcome your feedback on the PHYS 231 labs!  Please feel free to include any comments you have about this lab in the cell below.  Your comments will be taken into consideration when revising/improving the PHYS 231 labs.  You can suggest improvements, point out anything that was unclear, comment on the strengths and weaknesses of the lab, ...\n",
    "\n",
    "This question is optional and will have no impact on your lab grade."
   ]
  },
  {
   "cell_type": "markdown",
   "id": "fc597bd5",
   "metadata": {},
   "source": [
    "_Type your answer here, replacing this text._"
   ]
  },
  {
   "cell_type": "markdown",
   "id": "d988c931",
   "metadata": {
    "deletable": false,
    "editable": false
   },
   "source": [
    "<!-- END QUESTION -->\n",
    "\n",
    "***\n",
    "Once you've completed this notebook:\n",
    "- Save your work.\n",
    "- Run 'grader.export()' to generate a .zip file containing all of the materials that you will submit.\n",
    "- Download the generated .zip file.\n",
    "- Upload the .zip file to the PHYS 231 Canvas gradebook.\n",
    "\n",
    "Here is a <a href = \"https://cmps-people.ok.ubc.ca/jbobowsk/phys231/Python/images/Submission.gif\">GIF</a> showing how these steps are completed.  Once your completed notebook has been uploaded to the Canvas gradebook, you're done!"
   ]
  },
  {
   "cell_type": "markdown",
   "id": "c022143c",
   "metadata": {
    "deletable": false,
    "editable": false
   },
   "source": [
    "## Submission\n",
    "\n",
    "Make sure you have run all cells in your notebook in order before running the cell below, so that all images/graphs appear in the output. The cell below will generate a zip file for you to submit. **Please save before exporting!**"
   ]
  },
  {
   "cell_type": "code",
   "execution_count": null,
   "id": "8325ce92",
   "metadata": {
    "deletable": false,
    "editable": false
   },
   "outputs": [],
   "source": [
    "# Save your notebook first, then run this cell to export your submission.\n",
    "grader.export(run_tests=True)"
   ]
  },
  {
   "cell_type": "markdown",
   "id": "dd9eef86",
   "metadata": {
    "deletable": false,
    "editable": false
   },
   "source": [
    "# <div style=\"background-color:rgba(255, 204, 255, 0.5); text-align:center; vertical-align: middle; padding:40px 0; margin-top:30px\"><span style=\"color:rgba(102, 0, 204, 1);\">Part 4 - Playground (optional)</span></div>\n",
    "\n",
    "Feel free to add as many cells as you like below and use them as a playground for further independent investigations.  These cells won't be graded, so feel free to use them in any way that you like.  "
   ]
  },
  {
   "cell_type": "code",
   "execution_count": null,
   "id": "9d8a0063",
   "metadata": {},
   "outputs": [],
   "source": [
    "# Here's an empty code cell that you can use."
   ]
  },
  {
   "cell_type": "code",
   "execution_count": null,
   "id": "6a238300",
   "metadata": {},
   "outputs": [],
   "source": [
    "# Here's another empty code cell that you can use."
   ]
  },
  {
   "cell_type": "code",
   "execution_count": null,
   "id": "be4b006c",
   "metadata": {},
   "outputs": [],
   "source": [
    "# Here's yet another empty code cell that you can use.\n",
    "# If you need more, you can add cells using the '+' icon in the menu bar at to the top of the screen."
   ]
  },
  {
   "cell_type": "markdown",
   "id": "5d5a5b87",
   "metadata": {
    "deletable": false,
    "editable": false
   },
   "source": [
    "### <div style=\"background-color:rgba(255, 255, 102, 0.5); text-align:left; padding:20px 0; margin-top:20px\">$\\quad$Appendix A &ndash; The Scatter Function...</div>\n",
    "\n",
    "The function for generating scatter plots is called as follows:\n",
    "```python\n",
    "PHYS231.Scatter(xData, yData, yErrors = [], xlabel = 'x-axis', ylabel = 'y-axis', xUnits = '', yUnits = '', fill = False, show = True)\n",
    "```\n",
    "The 'xData' and 'yData' inputs are required, all other arguments are optional with default values set.  The function returns the a single output (the formatted plot):\n",
    "```python\n",
    "fig\n",
    "```\n",
    "\n",
    "The function will do a simple scatter plot if no 'yError' are included.  It will included error bars if 'yErrors' are passed to the function.  The 'fill' and 'show' arguments should generally be false.  \n",
    "\n",
    "If the 'xData' list is empty, as in:\n",
    "```python\n",
    "xData = []\n",
    "```\n",
    "then the x-axis will be the trial number.  For example, is 'xData' is empty and 'yData' has 10 elements, the x-axis will span 1 to 10.\n",
    "\n",
    "### Scatter Example Implmentation\n",
    "The code block below shows an implementation of 'Scatter'.\n",
    "```python\n",
    "import PHYS231\n",
    "theta = [10, 20, 30] # degrees\n",
    "T = [2.02, 1.95, 2.13] # s\n",
    "errT = [0.02, 0.02, 0.03] # s\n",
    "fig = PHYS231.Scatter(theta, T, errT, 'initial angle' , 'period', 'degrees', 's')\n",
    "```\n",
    "\n",
    "If you're interested in generating your own plots with customized formatting, see the following Python-based plotting tutorial: https://cmps-people.ok.ubc.ca/jbobowsk/Python/html/Jupyter%20Basic%20Plots.html.\n",
    "***"
   ]
  },
  {
   "cell_type": "markdown",
   "id": "aa888d21",
   "metadata": {},
   "source": [
    "Last update: October 14, 2022"
   ]
  }
 ],
 "metadata": {
  "kernelspec": {
   "display_name": "Python 3 (ipykernel)",
   "language": "python",
   "name": "python3"
  },
  "language_info": {
   "codemirror_mode": {
    "name": "ipython",
    "version": 3
   },
   "file_extension": ".py",
   "mimetype": "text/x-python",
   "name": "python",
   "nbconvert_exporter": "python",
   "pygments_lexer": "ipython3",
   "version": "3.9.13"
  },
  "otter": {
   "OK_FORMAT": true,
   "tests": {
    "Ratio": {
     "name": "Ratio",
     "points": 1,
     "suites": [
      {
       "cases": [
        {
         "code": ">>> len(Ratio) != 0\nTrue",
         "hidden": false,
         "locked": false
        },
        {
         "code": ">>> test = True\n>>> for i in range(len(Ratio)):\n...     if np.isclose(Ratio[i], VR[i]/V0[i], atol = 0, rtol = 0.03) != True:\n...         test = False\n>>> test\nTrue",
         "hidden": false,
         "locked": false
        }
       ],
       "scored": true,
       "setup": "",
       "teardown": "",
       "type": "doctest"
      }
     ]
    },
    "Ratio_uncertainty": {
     "name": "Ratio_uncertainty",
     "points": 1,
     "suites": [
      {
       "cases": [
        {
         "code": ">>> len(errRatio) != 0\nTrue",
         "hidden": false,
         "locked": false
        },
        {
         "code": ">>> test = True\n>>> for i in range(len(errRatio)):\n...     if np.isclose(errRatio[i], np.sqrt((errVR[i]/V0[i])**2 + (errV0[i]*VR[i]/V0[i]**2)**2), atol = 0, rtol = 0.03) != True:\n...         test = False\n>>> test\nTrue",
         "hidden": false,
         "locked": false
        }
       ],
       "scored": true,
       "setup": "",
       "teardown": "",
       "type": "doctest"
      }
     ]
    },
    "omega": {
     "name": "omega",
     "points": 1,
     "suites": [
      {
       "cases": [
        {
         "code": ">>> len(omega) != 0\nTrue",
         "hidden": false,
         "locked": false
        },
        {
         "code": ">>> test = True\n>>> for i in range(len(omega)):\n...     if np.isclose(omega[i], 2*np.pi*frequency[i], atol = 0, rtol = 0.03) != True:\n...         test = False\n>>> test\nTrue",
         "hidden": false,
         "locked": false
        }
       ],
       "scored": true,
       "setup": "",
       "teardown": "",
       "type": "doctest"
      }
     ]
    },
    "phase": {
     "name": "phase",
     "points": 1,
     "suites": [
      {
       "cases": [
        {
         "code": ">>> len(Phi) != 0\nTrue",
         "hidden": false,
         "locked": false
        },
        {
         "code": ">>> test = True\n>>> for i in range(len(Phi)):\n...     if np.isclose(Phi[i], (omega[i]*1e3)*(dt[i]*1e-6), atol = 0, rtol = 0.03) != True:\n...         test = False\n>>> test\nTrue",
         "hidden": false,
         "locked": false
        }
       ],
       "scored": true,
       "setup": "",
       "teardown": "",
       "type": "doctest"
      }
     ]
    },
    "phase_uncertainty": {
     "name": "phase_uncertainty",
     "points": 1,
     "suites": [
      {
       "cases": [
        {
         "code": ">>> len(errPhi) != 0\nTrue",
         "hidden": false,
         "locked": false
        },
        {
         "code": ">>> test = True\n>>> for i in range(len(errPhi)):\n...     if np.isclose(errPhi[i], (omega[i]*1e3)*(errdt[i]*1e-6), atol = 0, rtol = 0.03) != True:\n...         test = False\n>>> test\nTrue",
         "hidden": false,
         "locked": false
        }
       ],
       "scored": true,
       "setup": "",
       "teardown": "",
       "type": "doctest"
      }
     ]
    }
   }
  },
  "vscode": {
   "interpreter": {
    "hash": "a1ce1a55934a23fd40442cf0356ecbdd657c4299d40a67360326f76004edb0e0"
   }
  }
 },
 "nbformat": 4,
 "nbformat_minor": 5
}
